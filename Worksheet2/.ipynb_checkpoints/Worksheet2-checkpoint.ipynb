{
 "cells": [
  {
   "cell_type": "markdown",
   "metadata": {},
   "source": [
    "## Cmpe 232 Worksheet 2 BFS\n",
    "- ####  Hasan Kemik 116207076"
   ]
  },
  {
   "cell_type": "markdown",
   "metadata": {},
   "source": [
    "#### Initializing the node and BFS classes."
   ]
  },
  {
   "cell_type": "code",
   "execution_count": 1,
   "metadata": {},
   "outputs": [],
   "source": [
    "class node():\n",
    "    def __init__(self, name):\n",
    "        self.name = name\n",
    "        self.neighbors = []\n",
    "        self.visited = False\n",
    "        \n",
    "class BreadthFirstSearch():\n",
    "    def __init__(self):\n",
    "        self.queue = []\n",
    "    \n",
    "    def bfs(self, s):\n",
    "        self.queue.append(s)\n",
    "        s.visited = True\n",
    "        \n",
    "        while len(self.queue) != 0:\n",
    "            v = self.queue.pop(0)\n",
    "            print(\"%s \" % v.name);\n",
    "            \n",
    "            for neighbor in v.neighbors:\n",
    "                if not neighbor.visited:\n",
    "                    self.queue.append(neighbor)\n",
    "                    neighbor.visited = True"
   ]
  },
  {
   "cell_type": "markdown",
   "metadata": {},
   "source": [
    "#### Creating nodes and appending neighbors."
   ]
  },
  {
   "cell_type": "code",
   "execution_count": 2,
   "metadata": {},
   "outputs": [],
   "source": [
    "nodeA = node(\"A\")\n",
    "nodeB = node(\"B\")\n",
    "nodeC = node(\"C\")\n",
    "nodeD = node(\"D\")\n",
    "nodeE = node(\"E\")\n",
    "nodeF = node(\"F\")\n",
    "nodeG = node(\"G\")\n",
    "nodeH = node(\"H\")\n",
    "nodeI = node(\"I\")"
   ]
  },
  {
   "cell_type": "code",
   "execution_count": 3,
   "metadata": {},
   "outputs": [
    {
     "name": "stdout",
     "output_type": "stream",
     "text": [
      "A \n",
      "B \n",
      "C \n",
      "F \n",
      "D \n",
      "E \n"
     ]
    }
   ],
   "source": [
    "nodeA.neighbors.append(nodeB)\n",
    "nodeA.neighbors.append(nodeC)\n",
    "\n",
    "nodeB.neighbors.append(nodeC)\n",
    "nodeB.neighbors.append(nodeF)\n",
    "\n",
    "nodeC.neighbors.append(nodeF)\n",
    "nodeC.neighbors.append(nodeD)\n",
    "\n",
    "nodeD.neighbors.append(nodeE)\n",
    "\n",
    "\n",
    "bfs = BreadthFirstSearch()\n",
    "bfs.bfs(nodeA)"
   ]
  },
  {
   "cell_type": "code",
   "execution_count": 4,
   "metadata": {},
   "outputs": [],
   "source": [
    "nodeA = node(\"A\")\n",
    "nodeB = node(\"B\")\n",
    "nodeC = node(\"C\")\n",
    "nodeD = node(\"D\")\n",
    "nodeE = node(\"E\")\n",
    "nodeF = node(\"F\")\n",
    "nodeG = node(\"G\")\n",
    "nodeH = node(\"H\")\n",
    "nodeI = node(\"I\")"
   ]
  },
  {
   "cell_type": "code",
   "execution_count": 5,
   "metadata": {},
   "outputs": [
    {
     "name": "stdout",
     "output_type": "stream",
     "text": [
      "A \n",
      "B \n",
      "G \n",
      "C \n",
      "F \n",
      "D \n",
      "E \n"
     ]
    }
   ],
   "source": [
    "nodeA.neighbors.append(nodeB)\n",
    "nodeA.neighbors.append(nodeG)\n",
    "\n",
    "nodeB.neighbors.append(nodeC)\n",
    "nodeB.neighbors.append(nodeF)\n",
    "nodeB.neighbors.append(nodeG)\n",
    "\n",
    "nodeD.neighbors.append(nodeE)\n",
    "nodeD.neighbors.append(nodeC)\n",
    "nodeD.neighbors.append(nodeG)\n",
    "nodeD.neighbors.append(nodeF)\n",
    "\n",
    "nodeC.neighbors.append(nodeF)\n",
    "nodeC.neighbors.append(nodeD)\n",
    "nodeC.neighbors.append(nodeB)\n",
    "\n",
    "\n",
    "bfs = BreadthFirstSearch()\n",
    "bfs.bfs(nodeA)"
   ]
  },
  {
   "cell_type": "code",
   "execution_count": 6,
   "metadata": {},
   "outputs": [],
   "source": [
    "nodeA = node(\"A\")\n",
    "nodeB = node(\"B\")\n",
    "nodeC = node(\"C\")\n",
    "nodeD = node(\"D\")\n",
    "nodeE = node(\"E\")\n",
    "nodeF = node(\"F\")\n",
    "nodeG = node(\"G\")\n",
    "nodeH = node(\"H\")\n",
    "nodeI = node(\"I\")"
   ]
  },
  {
   "cell_type": "code",
   "execution_count": 7,
   "metadata": {},
   "outputs": [
    {
     "name": "stdout",
     "output_type": "stream",
     "text": [
      "A \n",
      "D \n",
      "C \n",
      "B \n",
      "F \n",
      "E \n",
      "G \n",
      "H \n",
      "I \n"
     ]
    }
   ],
   "source": [
    "nodeA.neighbors.append(nodeD)\n",
    "nodeA.neighbors.append(nodeC)\n",
    "nodeA.neighbors.append(nodeB)\n",
    "\n",
    "nodeB.neighbors.append(nodeG)\n",
    "\n",
    "nodeC.neighbors.append(nodeB)\n",
    "nodeC.neighbors.append(nodeD)\n",
    "nodeC.neighbors.append(nodeE)\n",
    "nodeC.neighbors.append(nodeF)\n",
    "\n",
    "nodeE.neighbors.append(nodeB)\n",
    "nodeE.neighbors.append(nodeF)\n",
    "nodeE.neighbors.append(nodeG)\n",
    "nodeE.neighbors.append(nodeH)\n",
    "\n",
    "nodeD.neighbors.append(nodeF)\n",
    "\n",
    "nodeG.neighbors.append(nodeH)\n",
    "nodeG.neighbors.append(nodeI)\n",
    "nodeG.neighbors.append(nodeB)\n",
    "\n",
    "nodeH.neighbors.append(nodeF)\n",
    "nodeH.neighbors.append(nodeE)\n",
    "nodeH.neighbors.append(nodeI)\n",
    "\n",
    "bfs = BreadthFirstSearch()\n",
    "bfs.bfs(nodeA)"
   ]
  },
  {
   "cell_type": "code",
   "execution_count": 8,
   "metadata": {},
   "outputs": [
    {
     "data": {
      "text/plain": [
       "['B', 'D', 'E', 'F']"
      ]
     },
     "execution_count": 8,
     "metadata": {},
     "output_type": "execute_result"
    }
   ],
   "source": [
    "[neigh.name for neigh in nodeC.neighbors]"
   ]
  }
 ],
 "metadata": {
  "kernelspec": {
   "display_name": "Python 3",
   "language": "python",
   "name": "python3"
  },
  "language_info": {
   "codemirror_mode": {
    "name": "ipython",
    "version": 3
   },
   "file_extension": ".py",
   "mimetype": "text/x-python",
   "name": "python",
   "nbconvert_exporter": "python",
   "pygments_lexer": "ipython3",
   "version": "3.6.8"
  }
 },
 "nbformat": 4,
 "nbformat_minor": 2
}
