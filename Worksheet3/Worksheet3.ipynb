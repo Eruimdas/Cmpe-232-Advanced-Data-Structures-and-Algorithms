{
 "cells": [
  {
   "cell_type": "markdown",
   "metadata": {},
   "source": [
    "## Worksheet 3\n",
    "- ## Hasan Kemik 116207076"
   ]
  },
  {
   "cell_type": "code",
   "execution_count": 1,
   "metadata": {},
   "outputs": [],
   "source": [
    "class node():\n",
    "    def __init__(self,name):\n",
    "        self.name = name\n",
    "        self.neighbors = []\n",
    "        self.visited = False\n",
    "        self.prev = None"
   ]
  },
  {
   "cell_type": "code",
   "execution_count": 2,
   "metadata": {},
   "outputs": [],
   "source": [
    "class graph():\n",
    "    def __init__(self,node):\n",
    "        self.startnode = node\n",
    "    \n",
    "    def addEdges(self,nodeA, nodeB):\n",
    "        try:\n",
    "            a = nodeB.neighbors.index(nodeA)\n",
    "        except ValueError:\n",
    "            a = -1\n",
    "        if a < 0:\n",
    "            nodeA.neighbors.append(nodeB)\n",
    "        try:\n",
    "            b = nodeB.neighbors.index(nodeA)\n",
    "        except ValueError:\n",
    "            b = -1\n",
    "        if b < 0:\n",
    "            nodeB.neighbors.append(nodeA)"
   ]
  },
  {
   "cell_type": "code",
   "execution_count": 3,
   "metadata": {},
   "outputs": [],
   "source": [
    "class DepthFirstSearch():   \n",
    "    def dfs(self,graph, s):\n",
    "        s.visited = True\n",
    "        print(\"%s\" % s.name)\n",
    "        for v in [neighbor for neighbor in s.neighbors if neighbor.visited is False]:\n",
    "            if v.visited != True:\n",
    "                v.prev = s\n",
    "                #print(\"%s %r\" % (v.name,v.visited));\n",
    "                DepthFirstSearch.dfs(self,graph,v)\n",
    "        "
   ]
  },
  {
   "cell_type": "code",
   "execution_count": 4,
   "metadata": {},
   "outputs": [],
   "source": [
    "node0 = node(\"0\")\n",
    "node1 = node(\"1\")\n",
    "node2 = node(\"2\")\n",
    "node3 = node(\"3\")\n",
    "node4 = node(\"4\")\n",
    "node5 = node(\"5\")\n",
    "node6 = node(\"6\")\n",
    "node7 = node(\"7\")\n",
    "node8 = node(\"8\")\n",
    "node9 = node(\"9\")\n",
    "node10 = node(\"10\")\n",
    "node11 = node(\"11\")\n",
    "node12 = node(\"12\")"
   ]
  },
  {
   "cell_type": "code",
   "execution_count": 5,
   "metadata": {},
   "outputs": [],
   "source": [
    "my_graph = graph(node0)"
   ]
  },
  {
   "cell_type": "code",
   "execution_count": 6,
   "metadata": {},
   "outputs": [],
   "source": [
    "my_graph.addEdges(node0, node5)\n",
    "my_graph.addEdges(node5, node3)\n",
    "my_graph.addEdges(node3, node4)\n",
    "my_graph.addEdges(node5, node4)\n",
    "my_graph.addEdges(node4, node6)\n",
    "my_graph.addEdges(node0, node6)\n",
    "my_graph.addEdges(node0, node1)\n",
    "my_graph.addEdges(node0, node2)\n",
    "\n",
    "my_graph.addEdges(node7, node8)\n",
    "\n",
    "my_graph.addEdges(node9, node10)\n",
    "my_graph.addEdges(node9, node11)\n",
    "my_graph.addEdges(node9, node12)\n",
    "my_graph.addEdges(node12, node11)"
   ]
  },
  {
   "cell_type": "code",
   "execution_count": 7,
   "metadata": {},
   "outputs": [
    {
     "name": "stdout",
     "output_type": "stream",
     "text": [
      "0\n",
      "5\n",
      "3\n",
      "4\n",
      "6\n",
      "1\n",
      "2\n"
     ]
    }
   ],
   "source": [
    "dfs = DepthFirstSearch()\n",
    "dfs.dfs(my_graph,node0)"
   ]
  },
  {
   "cell_type": "code",
   "execution_count": 8,
   "metadata": {},
   "outputs": [
    {
     "name": "stdout",
     "output_type": "stream",
     "text": [
      "7\n",
      "8\n"
     ]
    }
   ],
   "source": [
    "dfs.dfs(my_graph,node7)"
   ]
  },
  {
   "cell_type": "code",
   "execution_count": 9,
   "metadata": {},
   "outputs": [
    {
     "name": "stdout",
     "output_type": "stream",
     "text": [
      "9\n",
      "10\n",
      "11\n",
      "12\n"
     ]
    }
   ],
   "source": [
    "dfs.dfs(my_graph,node9)"
   ]
  }
 ],
 "metadata": {
  "kernelspec": {
   "display_name": "Python 3",
   "language": "python",
   "name": "python3"
  },
  "language_info": {
   "codemirror_mode": {
    "name": "ipython",
    "version": 3
   },
   "file_extension": ".py",
   "mimetype": "text/x-python",
   "name": "python",
   "nbconvert_exporter": "python",
   "pygments_lexer": "ipython3",
   "version": "3.6.8"
  }
 },
 "nbformat": 4,
 "nbformat_minor": 2
}
