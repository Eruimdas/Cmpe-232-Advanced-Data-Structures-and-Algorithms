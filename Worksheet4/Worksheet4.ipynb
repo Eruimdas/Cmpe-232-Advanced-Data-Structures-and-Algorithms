{
 "cells": [
  {
   "cell_type": "code",
   "execution_count": 48,
   "metadata": {},
   "outputs": [],
   "source": [
    "with open('undirected_graph.txt', 'r') as myfile:\n",
    "    data=myfile.read().replace('\\n', ' ')"
   ]
  },
  {
   "cell_type": "code",
   "execution_count": 49,
   "metadata": {},
   "outputs": [
    {
     "data": {
      "text/plain": [
       "['a', 'b', 'a', 'c', 'c', 'd', 'e', 'f', 'e', 'g', 'h', 'j']"
      ]
     },
     "execution_count": 49,
     "metadata": {},
     "output_type": "execute_result"
    }
   ],
   "source": [
    "data = data.split(\" \")\n",
    "data"
   ]
  },
  {
   "cell_type": "code",
   "execution_count": 58,
   "metadata": {},
   "outputs": [],
   "source": [
    "sources = data[0::2]\n",
    "targets = data[1::2]"
   ]
  },
  {
   "cell_type": "code",
   "execution_count": 75,
   "metadata": {},
   "outputs": [
    {
     "data": {
      "text/plain": [
       "['a', 'a', 'c', 'e', 'e', 'h', 'b', 'c', 'd', 'f', 'g', 'j']"
      ]
     },
     "execution_count": 75,
     "metadata": {},
     "output_type": "execute_result"
    }
   ],
   "source": [
    "sources + targets"
   ]
  },
  {
   "cell_type": "code",
   "execution_count": 61,
   "metadata": {},
   "outputs": [
    {
     "data": {
      "text/plain": [
       "['d', 'c', 'g', 'e', 'f', 'j', 'h', 'b', 'a']"
      ]
     },
     "execution_count": 61,
     "metadata": {},
     "output_type": "execute_result"
    }
   ],
   "source": [
    "all_nodes = list(set(sources + targets))\n",
    "all_nodes"
   ]
  },
  {
   "cell_type": "code",
   "execution_count": 74,
   "metadata": {},
   "outputs": [],
   "source": [
    "elist = [[s,t] for s in sources for t in targets]"
   ]
  },
  {
   "cell_type": "code",
   "execution_count": 70,
   "metadata": {},
   "outputs": [
    {
     "data": {
      "text/plain": [
       "[['a', 'b'],\n",
       " ['a', 'c'],\n",
       " ['a', 'd'],\n",
       " ['a', 'f'],\n",
       " ['a', 'g'],\n",
       " ['a', 'j'],\n",
       " ['a', 'b'],\n",
       " ['a', 'c'],\n",
       " ['a', 'd'],\n",
       " ['a', 'f'],\n",
       " ['a', 'g'],\n",
       " ['a', 'j'],\n",
       " ['c', 'b'],\n",
       " ['c', 'c'],\n",
       " ['c', 'd'],\n",
       " ['c', 'f'],\n",
       " ['c', 'g'],\n",
       " ['c', 'j'],\n",
       " ['e', 'b'],\n",
       " ['e', 'c'],\n",
       " ['e', 'd'],\n",
       " ['e', 'f'],\n",
       " ['e', 'g'],\n",
       " ['e', 'j'],\n",
       " ['e', 'b'],\n",
       " ['e', 'c'],\n",
       " ['e', 'd'],\n",
       " ['e', 'f'],\n",
       " ['e', 'g'],\n",
       " ['e', 'j'],\n",
       " ['h', 'b'],\n",
       " ['h', 'c'],\n",
       " ['h', 'd'],\n",
       " ['h', 'f'],\n",
       " ['h', 'g'],\n",
       " ['h', 'j']]"
      ]
     },
     "execution_count": 70,
     "metadata": {},
     "output_type": "execute_result"
    }
   ],
   "source": [
    "elist"
   ]
  },
  {
   "cell_type": "code",
   "execution_count": 60,
   "metadata": {},
   "outputs": [],
   "source": [
    "class node():\n",
    "    def __init__(self, node_name):\n",
    "        self.node_name = node_name\n",
    "        self.neighbors = [] # this holds instances of nodes (not node names)\n",
    "        \n",
    "    def neighbors_name(self):\n",
    "        return [neighbor.node_name for neighbor in self.neighbors]\n",
    "        \n",
    "class graph():\n",
    "    def __init__(self, elist):\n",
    "        self.elist = elist\n",
    "        sources = [s for s,t in self.elist]  # source node names\n",
    "        targets = [t for s,t in self.elist] # target node names\n",
    "        self.node_names = list(set(sources + targets))\n",
    "        \n",
    "        self.nodes = {name:node(name) for name in self.node_names}\n",
    "        self.create_graph()\n",
    "        \n",
    "    def add_edge(self, s_name, t_name):\n",
    "        self.nodes[s_name].neighbors.append(self.nodes[t_name])\n",
    "        self.nodes[t_name].neighbors.append(self.nodes[s_name])\n",
    "        \n",
    "    def create_graph(self):\n",
    "        for s,t in self.elist:\n",
    "            self.add_edge(s,t)\n",
    "            \n",
    "    def info(self):\n",
    "        return {s:node_s.neighbors_name() for s,node_s in self.nodes.items()}\n",
    "    \n",
    "    def draw(self, color = 'lightblue'):\n",
    "        \"\"\"\n",
    "            Usage of networkx for visualisation\n",
    "        \"\"\"\n",
    "        G = nx.Graph()\n",
    "        G.add_edges_from(self.elist)\n",
    "        plt.figure(figsize=(16,8))\n",
    "        nx.draw(G, node_size=5000, node_color=color, with_labels=True)\n"
   ]
  },
  {
   "cell_type": "code",
   "execution_count": null,
   "metadata": {},
   "outputs": [],
   "source": []
  }
 ],
 "metadata": {
  "kernelspec": {
   "display_name": "Python 3",
   "language": "python",
   "name": "python3"
  },
  "language_info": {
   "codemirror_mode": {
    "name": "ipython",
    "version": 3
   },
   "file_extension": ".py",
   "mimetype": "text/x-python",
   "name": "python",
   "nbconvert_exporter": "python",
   "pygments_lexer": "ipython3",
   "version": "3.6.8"
  }
 },
 "nbformat": 4,
 "nbformat_minor": 2
}
